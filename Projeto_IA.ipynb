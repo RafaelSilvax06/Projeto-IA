{
  "nbformat": 4,
  "nbformat_minor": 0,
  "metadata": {
    "colab": {
      "provenance": [],
      "authorship_tag": "ABX9TyMhw26ipAHcuvQkrIeGkmb+",
      "include_colab_link": true
    },
    "kernelspec": {
      "name": "python3",
      "display_name": "Python 3"
    },
    "language_info": {
      "name": "python"
    }
  },
  "cells": [
    {
      "cell_type": "markdown",
      "metadata": {
        "id": "view-in-github",
        "colab_type": "text"
      },
      "source": [
        "<a href=\"https://colab.research.google.com/github/RafaelSilvax06/Projeto-IA/blob/main/Projeto_IA.ipynb\" target=\"_parent\"><img src=\"https://colab.research.google.com/assets/colab-badge.svg\" alt=\"Open In Colab\"/></a>"
      ]
    },
    {
      "cell_type": "code",
      "execution_count": 13,
      "metadata": {
        "colab": {
          "base_uri": "https://localhost:8080/"
        },
        "id": "PwKluobDGtIC",
        "outputId": "e473fd5f-7065-461b-8670-65dbf2d17dfe"
      },
      "outputs": [
        {
          "output_type": "stream",
          "name": "stdout",
          "text": [
            "Drive already mounted at /content/drive; to attempt to forcibly remount, call drive.mount(\"/content/drive\", force_remount=True).\n",
            "<class 'pandas.core.frame.DataFrame'>\n",
            "RangeIndex: 500 entries, 0 to 499\n",
            "Data columns (total 9 columns):\n",
            " #   Column               Non-Null Count  Dtype  \n",
            "---  ------               --------------  -----  \n",
            " 0   ID                   500 non-null    int64  \n",
            " 1   Idade                500 non-null    int64  \n",
            " 2   Sexo                 500 non-null    object \n",
            " 3   Salario              500 non-null    float64\n",
            " 4   Departamento         500 non-null    object \n",
            " 5   AnosExperiencia      500 non-null    int64  \n",
            " 6   Satisfacao           500 non-null    int64  \n",
            " 7   HorasTrabalhoSemana  500 non-null    int64  \n",
            " 8   Desempenho           500 non-null    object \n",
            "dtypes: float64(1), int64(5), object(3)\n",
            "memory usage: 35.3+ KB\n"
          ]
        }
      ],
      "source": [
        "## Mantendo a base online\n",
        "import pandas as pd\n",
        "drive.mount('/content/drive')\n",
        "caminho = ('/content/drive/MyDrive/base_analise_dados.csv')\n",
        "df = pd.read_csv(caminho)\n",
        "df.head()\n"
      ]
    }
  ]
}